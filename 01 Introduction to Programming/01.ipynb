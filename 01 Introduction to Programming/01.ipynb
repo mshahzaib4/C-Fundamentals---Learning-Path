{
 "cells": [
  {
   "cell_type": "markdown",
   "metadata": {},
   "source": [
    "<h1 style=\"font-family: Trebuchet MS; padding: 12px; font-size: 30px; color:; text-align: center; line-height: 1.25;\">C++<br><span style=\"color: ; font-size: 48px\"><b>Introduction to \" Hello World!! \" </b></span><br><span style=\"color: #52b788; font-size: 20px\">📀Using Content-Based and C++ Fundamentals</span></h1>\n",
    "<hr>"
   ]
  },
  {
   "cell_type": "markdown",
   "metadata": {},
   "source": [
    "<h1 style=\"font-family: Trebuchet MS; font-size: 20px; color: #ffc43d; text-align: center; \"><b>If you find this notebook useful, share it with your friends.😉👍🏻</b></h1>"
   ]
  },
  {
   "cell_type": "markdown",
   "metadata": {},
   "source": [
    "## **What is C++**?\n",
    "\n",
    "C++ is a general-purpose programming language that was created as an extension of the C programming language. It was invented by Bjarne Stroustrup at Bell Laboratories in the early 1980s. C++ added object-oriented programming (OOP) features like classes and inheritance to C, while retaining most of C's syntax and capabilities.\n",
    "\n",
    "## **Key Features of C++**\n",
    "\n",
    "### *Object-Oriented Programming (OOP)*\n",
    "\n",
    "C++ supports OOP concepts like polymorphism, inheritance, and encapsulation, allowing programmers to structure their code more effectively and reuse it more easily.\n",
    "\n",
    "### **High Performance**\n",
    "\n",
    "C++ is known for its efficiency and performance. It allows low-level access to memory and provides direct hardware manipulation capabilities[4].\n",
    "\n",
    "### *Portability*\n",
    "\n",
    "C++ programs can run on various operating systems like Windows, Linux, and macOS with minimal changes[1].\n",
    "\n",
    "### *Rich Standard Library*\n",
    "\n",
    "The C++ Standard Template Library (STL) provides a wide range of pre-built data structures and algorithms, making development faster and easier.\n",
    "\n",
    "### *Procedural and Generic Programming*\n",
    "\n",
    "In addition to OOP, C++ supports procedural and generic programming paradigms, providing flexibility in programming styles.\n",
    "\n",
    "## **Applications of C++**\n",
    "\n",
    "C++ is used in a wide range of applications, including:\n",
    "\n",
    "- Operating systems and device drivers\n",
    "- Embedded systems and microcontrollers\n",
    "- Game development\n",
    "- Desktop applications and GUI frameworks\n",
    "- Numerical and scientific computing\n",
    "- Compilers, interpreters, and other language tools\n",
    "\n",
    "C++ is a powerful and adaptable language that continues to be widely used in system programming, game development, software engineering, and many other domains.\n"
   ]
  },
  {
   "cell_type": "markdown",
   "metadata": {},
   "source": [
    "---"
   ]
  },
  {
   "cell_type": "code",
   "execution_count": null,
   "metadata": {},
   "outputs": [],
   "source": [
    "#include <iostream> // Header File\n",
    "\n",
    "using namespace std; \n",
    "\n",
    "int main() {\n",
    "    cout << \"Hello, World!!\" << endl;     // Displaying a message\n",
    "\n",
    "    return 0; // Exit \n",
    "}\n"
   ]
  },
  {
   "cell_type": "code",
   "execution_count": null,
   "metadata": {},
   "outputs": [],
   "source": [
    "#include <iostream> // Header File\n",
    "\n",
    "using namespace std; \n",
    "\n",
    "int main() {\n",
    "    \n",
    "    cout << \"My Name Muhammad Shahzaib Yaqoob\" << endl;     // Displaying a message\n",
    "\n",
    "    return 0; // Exit \n",
    "}\n"
   ]
  },
  {
   "cell_type": "markdown",
   "metadata": {},
   "source": [
    "---"
   ]
  },
  {
   "cell_type": "markdown",
   "metadata": {},
   "source": [
    "<div id=\"badges\" style=\"text-align: center; background-color: #333; padding: 10px; margin-bottom: 10px;\">\n",
    "    <a href=\"https://www.linkedin.com/feed/?trk=404_page\" target=\"_blank\" rel=\"noopener noreferrer\">\n",
    "        <img src=\"https://img.shields.io/badge/LinkedIn-0077B5?style=for-the-badge&logo=linkedin&logoColor=white\" alt=\"LinkedIn Badge\"/>\n",
    "    </a>\n",
    "</div>\n",
    "\n",
    "\n",
    "<div id=\"badges\" style=\"text-align: center; background-color: #333; padding: 10px; margin-bottom: 10px;\">\n",
    "    <a href=\"https://github.com/mshahzaib4/mshahzaib4\" target=\"_blank\" rel=\"noopener noreferrer\">\n",
    "        <img src=\"https://img.shields.io/badge/GitHub-181717?style=for-the-badge&logo=github&logoColor=white\" alt=\"GitHub Badge\"/>\n",
    "    </a>\n",
    "</div>\n",
    "\n",
    "<div id=\"badges\" style=\"text-align: center; background-color: #333; padding: 10px; margin-bottom: 10px;\">\n",
    "    <a href=\"https://www.kaggle.com/shahzaibmalik44\" target=\"_blank\" rel=\"noopener noreferrer\">\n",
    "        <img src=\"https://img.shields.io/badge/Kaggle-20BEFF?style=for-the-badge&logo=kaggle&logoColor=white\" alt=\"Kaggle Badge\"/>\n",
    "    </a>\n",
    "</div>\n",
    "\n",
    "<p style=\"font-size: 20px;font-family:newtimeroman; color:; text-align: center; margin-left: 10px;\">Notebook Author: Muhammad Shahzaib Yaqoob \n",
    " <p>\n",
    " \n",
    "---"
   ]
  }
 ],
 "metadata": {
  "language_info": {
   "name": "python"
  }
 },
 "nbformat": 4,
 "nbformat_minor": 2
}
