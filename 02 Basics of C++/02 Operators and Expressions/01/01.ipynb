{
 "cells": [
  {
   "cell_type": "markdown",
   "metadata": {},
   "source": [
    "<h1 style=\"font-family: Trebuchet MS; padding: 12px; font-size: 30px; color:; text-align: center; line-height: 1.25;\">C++<br><span style=\"color: ; font-size: 48px\"><b>Introduction to \" Operators!! \" </b></span><br><span style=\"color: #52b788; font-size: 20px\">Using Content-Based and C++ Fundamentals</span></h1>\n",
    "<hr>"
   ]
  },
  {
   "cell_type": "markdown",
   "metadata": {},
   "source": [
    "<h1 style=\"font-family: Trebuchet MS; font-size: 20px; color: #ffc43d; text-align: center; \"><b>If you find this notebook useful, share it with your friends.😉👍🏻</b></h1>"
   ]
  },
  {
   "cell_type": "markdown",
   "metadata": {},
   "source": [
    "#### **Operators are symbols that perform operations on variables and values.**\n",
    "\n",
    "### **Arithmetic Operators in C++**\n",
    "\n",
    "In C programming, the arithmetic operators used for numerical computations are\n",
    "\n",
    "- `+` Addition\n",
    "- `-` Subtraction\n",
    "- `*` Multiplication\n",
    "- `/` Division\n",
    "- `%` Modulus (remainder of division)\n",
    "\n",
    "An example of an arithmetic statement that adds `c * d` to `b` and assigns the result to `a` is\n",
    "```c\n",
    "a = b + c * d;\n",
    "```\n",
    "### **Assignment Operators**\n",
    "Assignment operators are used to assign values to variables.\n",
    "\n",
    "-  `=` Assign\n",
    "- `+=` Add and assign\n",
    "- `-=` Subtract and assign\n",
    "- `*=`Multiply and assign\n",
    "\n",
    "### **Relational Operators**\n",
    "When two values are compared, relational operators return `1` if the relation is true and `0` otherwise\n",
    "\n",
    "- `<`  Lower than\n",
    "- `>`  Greater than\n",
    "- `<=` Lower than or equal to\n",
    "- `>=` Greater than or equal to\n",
    "- `==` Equivalent to\n",
    "- `!=` Inequality\n",
    "\n",
    "For instance, `if (a > b)` determines whether `a` is bigger than `b`.\n",
    "\n",
    "### **Logical Operators**\n",
    "Relational expressions can be combined with logical operators\n",
    "\n",
    "- `&&` Logical AND (true if both expressions are true)\n",
    "- `||` Logical OR (true if either expression is true)\n",
    "- `!`  Logical NOT (inverts the logic)\n",
    "\n",
    "For example:\n",
    "```c\n",
    "if (a > 0 && b) {\n",
    "    // code block\n",
    "}\n",
    "```"
   ]
  },
  {
   "cell_type": "markdown",
   "metadata": {},
   "source": [
    "---"
   ]
  },
  {
   "cell_type": "markdown",
   "metadata": {},
   "source": [
    "---"
   ]
  },
  {
   "cell_type": "markdown",
   "metadata": {},
   "source": [
    "``` cpp\n",
    "#include <iostream>\n",
    "\n",
    "using namespace std;\n",
    "\n",
    "int main() {\n",
    "    // Arithmetic Operators\n",
    "    int a = 10;\n",
    "    int b = 3;\n",
    "\n",
    "    cout << \"Arithmetic Operators:\" << endl;\n",
    "    cout << \"a + b = \" << (a + b) << endl; // Addition\n",
    "    cout << \"a - b = \" << (a - b) << endl; // Subtraction\n",
    "\n",
    "    // Relational Operators\n",
    "    int x = 5;\n",
    "    int y = 10;\n",
    "\n",
    "    cout << \"Relational Operators:\" << endl;\n",
    "    cout << \"x == y: \" << (x == y) << endl; // Equal to\n",
    "    cout << \"x != y: \" << (x != y) << endl; // Not equal to   \n",
    "\n",
    "}"
   ]
  },
  {
   "cell_type": "markdown",
   "metadata": {},
   "source": [
    "<div id=\"badges\" style=\"text-align: center; background-color: #333; padding: 10px; margin-bottom: 10px;\">\n",
    "    <a href=\"https://www.linkedin.com/feed/?trk=404_page\" target=\"_blank\" rel=\"noopener noreferrer\">\n",
    "        <img src=\"https://img.shields.io/badge/LinkedIn-0077B5?style=for-the-badge&logo=linkedin&logoColor=white\" alt=\"LinkedIn Badge\"/>\n",
    "    </a>\n",
    "</div>\n",
    "\n",
    "\n",
    "<div id=\"badges\" style=\"text-align: center; background-color: #333; padding: 10px; margin-bottom: 10px;\">\n",
    "    <a href=\"https://github.com/mshahzaib4/mshahzaib4\" target=\"_blank\" rel=\"noopener noreferrer\">\n",
    "        <img src=\"https://img.shields.io/badge/GitHub-181717?style=for-the-badge&logo=github&logoColor=white\" alt=\"GitHub Badge\"/>\n",
    "    </a>\n",
    "</div>\n",
    "\n",
    "<div id=\"badges\" style=\"text-align: center; background-color: #333; padding: 10px; margin-bottom: 10px;\">\n",
    "    <a href=\"https://www.kaggle.com/shahzaibmalik44\" target=\"_blank\" rel=\"noopener noreferrer\">\n",
    "        <img src=\"https://img.shields.io/badge/Kaggle-20BEFF?style=for-the-badge&logo=kaggle&logoColor=white\" alt=\"Kaggle Badge\"/>\n",
    "    </a>\n",
    "</div>\n",
    "\n",
    "<p style=\"font-size: 20px;font-family:newtimeroman; color:; text-align: center; margin-left: 10px;\">Notebook Author: Muhammad Shahzaib Yaqoob \n",
    " <p>\n",
    " \n",
    "---"
   ]
  }
 ],
 "metadata": {
  "language_info": {
   "name": "python"
  }
 },
 "nbformat": 4,
 "nbformat_minor": 2
}
