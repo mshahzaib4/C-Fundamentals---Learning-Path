{
 "cells": [
  {
   "cell_type": "markdown",
   "metadata": {},
   "source": [
    "<h1 style=\"font-family: Trebuchet MS; padding: 12px; font-size: 30px; color:; text-align: center; line-height: 1.25;\">C++<br><span style=\"color: ; font-size: 48px\"><b>\" Variables and Data Types \" </b></span><br><span style=\"color: #52b788; font-size: 20px\">Using Content-Based and C++ Fundamentals</span></h1>\n",
    "<hr>"
   ]
  },
  {
   "cell_type": "markdown",
   "metadata": {},
   "source": [
    "<h1 style=\"font-family: Trebuchet MS; font-size: 20px; color: #ffc43d; text-align: center; \"><b>If you find this notebook useful, share it with your friends.😉👍🏻</b></h1>"
   ]
  },
  {
   "cell_type": "markdown",
   "metadata": {},
   "source": [
    "## **Standard Input and Output: cin and cout**\n",
    "\n",
    "### Standard Ouput\n",
    "\n",
    "The cout object is used to output data to the standard output (usually the screen). It is defined in the std namespace, so you need to either use ``std::cout`` or include a using directive.\n",
    "``` C++\n",
    "std::cout << \"Muhammad Shahzaib Yaqoob\" << std::endl;\n",
    "```\n",
    "\n",
    "### Standard Input \n",
    "Standard Input: cin\n",
    "The ``cin`` object is used to read data from the standard input (usually the keyboard).\n",
    "\n",
    "``` C++\n",
    "int age;\n",
    "std::cout << \"Enter your age: \";\n",
    "std::cin >> age;\n",
    "```"
   ]
  },
  {
   "cell_type": "markdown",
   "metadata": {},
   "source": [
    "## **Fundamental Data Types**\n",
    "\n",
    "A data type refers to the type of data that a variable may hold. For instance, a variable with an integer value can contain integer data, whereas a Boolean variable may hold boolean data. We must utilize distinct variables while coding in order to store various types of data. \n",
    "\n",
    "### Categories of Integers\n",
    "\n",
    "- `int`: An integer with 32 bits.\n",
    "- `short`: An integer of at least 16 bits.\n",
    "- `long`: An integer of at least 32 bits. \n",
    "- `long long`: An integer of at least 64 bits.\n",
    "\n",
    "### Types of Characters\n",
    "\n",
    "- `char`: An 8-bit character is typical.\n",
    "- `wchar_t`: Wide character type; commonly comes in 16 or 32 bits of size.\n",
    "- `char16_t` and `char32_t`: Character sets for Unicode.\n",
    "\n",
    "### Types of Floating Points\n",
    "\n",
    "- `float`: 32-bit, single-precision floating-point data.\n",
    "- `double`: Floating-point with double precision; usually 64 bits.\n",
    "- `long double`: Extended floating-point precision\n",
    "\n",
    "The size of these data types may vary depending on the system architecture and compiler implementation. It is important to note that the range and precision of these data types also depend on their size."
   ]
  },
  {
   "cell_type": "markdown",
   "metadata": {},
   "source": [
    "# **Escape sequences**\n",
    "Special non-printing characters called escape sequences are used in C++ to regulate how output stream objects, such as cout, print. These characters have a backslash `\\` before them and are not shown in the output. They can be inserted at different points in a string and are used inside string constants.\n",
    "In C++, some typical escape sequences are as follows:\n",
    "\n",
    "`\\n:` Inserts a new line.\n",
    "\n",
    "`\"\\\":` Places a double quote mark there.\n",
    "\n",
    "`\\':` Adds a solitary quote mark.\n",
    "\n",
    "`\\\\:` Applys a reverse cut.\n",
    "\n",
    "`\\t:` Denotes a tab that is horizontal.\n",
    "\n",
    "`\\r:` Stands for a return carriage.\n",
    "\n",
    "\n",
    "`\\f:` Denotes a feed in form.\n"
   ]
  },
  {
   "cell_type": "markdown",
   "metadata": {},
   "source": [
    "``` C++ \n",
    "cout << \"My__________\\n_____    Name\\n___________   Is__________(Your Name)\" << std::endl;\n",
    "```"
   ]
  },
  {
   "cell_type": "markdown",
   "metadata": {},
   "source": [
    "----"
   ]
  },
  {
   "cell_type": "code",
   "execution_count": null,
   "metadata": {
    "vscode": {
     "languageId": "plaintext"
    }
   },
   "outputs": [],
   "source": [
    "#include <iostream>\n",
    "using namespace std;\n",
    "int main() {\n",
    "    \n",
    "    int age;\n",
    "    string name;\n",
    "\n",
    "    cout << \"Enter your name: \";          // Output a message using cout\n",
    "\n",
    "    cin >> name;                        // Input a string using cin\n",
    "\n",
    "    cout << \"Enter your age: \";        // Output a message using cout\n",
    "\n",
    "    cin >> age;                      // Input an integer using cin\n",
    "\n",
    "    cout << \"Hello, \" << name << \"! You are \" << age << \" years old.\" << std::endl; // endl is uset to break line\n",
    "\n",
    "}\n"
   ]
  },
  {
   "cell_type": "markdown",
   "metadata": {},
   "source": [
    "<div id=\"badges\" style=\"text-align: center; background-color: #333; padding: 10px; margin-bottom: 10px;\">\n",
    "    <a href=\"https://www.linkedin.com/feed/?trk=404_page\" target=\"_blank\" rel=\"noopener noreferrer\">\n",
    "        <img src=\"https://img.shields.io/badge/LinkedIn-0077B5?style=for-the-badge&logo=linkedin&logoColor=white\" alt=\"LinkedIn Badge\"/>\n",
    "    </a>\n",
    "</div>\n",
    "\n",
    "\n",
    "<div id=\"badges\" style=\"text-align: center; background-color: #333; padding: 10px; margin-bottom: 10px;\">\n",
    "    <a href=\"https://github.com/mshahzaib4/mshahzaib4\" target=\"_blank\" rel=\"noopener noreferrer\">\n",
    "        <img src=\"https://img.shields.io/badge/GitHub-181717?style=for-the-badge&logo=github&logoColor=white\" alt=\"GitHub Badge\"/>\n",
    "    </a>\n",
    "</div>\n",
    "\n",
    "<div id=\"badges\" style=\"text-align: center; background-color: #333; padding: 10px; margin-bottom: 10px;\">\n",
    "    <a href=\"https://www.kaggle.com/shahzaibmalik44\" target=\"_blank\" rel=\"noopener noreferrer\">\n",
    "        <img src=\"https://img.shields.io/badge/Kaggle-20BEFF?style=for-the-badge&logo=kaggle&logoColor=white\" alt=\"Kaggle Badge\"/>\n",
    "    </a>\n",
    "</div>\n",
    "\n",
    "<p style=\"font-size: 20px;font-family:newtimeroman; color:; text-align: center; margin-left: 10px;\">Notebook Author: Muhammad Shahzaib Yaqoob \n",
    " <p>\n",
    " \n",
    "---"
   ]
  }
 ],
 "metadata": {
  "language_info": {
   "name": "python"
  }
 },
 "nbformat": 4,
 "nbformat_minor": 2
}
